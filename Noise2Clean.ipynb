{
  "nbformat": 4,
  "nbformat_minor": 0,
  "metadata": {
    "colab": {
      "name": "Noise2Clean.ipynb",
      "provenance": []
    },
    "kernelspec": {
      "name": "python3",
      "display_name": "Python 3"
    },
    "accelerator": "GPU"
  },
  "cells": [
    {
      "cell_type": "markdown",
      "metadata": {
        "id": "EFNETBTVUM1i",
        "colab_type": "text"
      },
      "source": [
        "通常のCNNカーネル（前処理あり）"
      ]
    },
    {
      "cell_type": "code",
      "metadata": {
        "id": "rqQbv_7a7o2q",
        "colab_type": "code",
        "colab": {
          "base_uri": "https://localhost:8080/",
          "height": 105
        },
        "outputId": "3729512b-a797-49be-929c-0f5061648455"
      },
      "source": [
        "!python main.py --mode 'train' --batch-size 16 --epochs 100 "
      ],
      "execution_count": null,
      "outputs": [
        {
          "output_type": "stream",
          "text": [
            "/usr/local/lib/python3.6/dist-packages/torch/nn/functional.py:2796: UserWarning: nn.functional.upsample is deprecated. Use nn.functional.interpolate instead.\n",
            "  warnings.warn(\"nn.functional.upsample is deprecated. Use nn.functional.interpolate instead.\")\n",
            "finished training\n",
            "last trainning loss : 0.00016602223312171796\n"
          ],
          "name": "stdout"
        }
      ]
    },
    {
      "cell_type": "code",
      "metadata": {
        "id": "Hv_3zfp1yskG",
        "colab_type": "code",
        "colab": {
          "base_uri": "https://localhost:8080/",
          "height": 105
        },
        "outputId": "e5ae6aaa-674d-4028-9f28-c16369b8d916"
      },
      "source": [
        "!python main.py --mode 'test' --batch-size 16 "
      ],
      "execution_count": null,
      "outputs": [
        {
          "output_type": "stream",
          "text": [
            "/usr/local/lib/python3.6/dist-packages/torch/nn/functional.py:2796: UserWarning: nn.functional.upsample is deprecated. Use nn.functional.interpolate instead.\n",
            "  warnings.warn(\"nn.functional.upsample is deprecated. Use nn.functional.interpolate instead.\")\n",
            "finishied test\n",
            "test loss : 0.00022192939253396946\n"
          ],
          "name": "stdout"
        }
      ]
    },
    {
      "cell_type": "code",
      "metadata": {
        "id": "rpon-6YQywCP",
        "colab_type": "code",
        "colab": {
          "base_uri": "https://localhost:8080/",
          "height": 88
        },
        "outputId": "74350f70-4870-445e-d158-fa33c124e0eb"
      },
      "source": [
        "!python main.py --mode 'run' --data-path ./159166596.jpg"
      ],
      "execution_count": null,
      "outputs": [
        {
          "output_type": "stream",
          "text": [
            "/usr/local/lib/python3.6/dist-packages/torch/nn/functional.py:2796: UserWarning: nn.functional.upsample is deprecated. Use nn.functional.interpolate instead.\n",
            "  warnings.warn(\"nn.functional.upsample is deprecated. Use nn.functional.interpolate instead.\")\n",
            "finishied running\n"
          ],
          "name": "stdout"
        }
      ]
    },
    {
      "cell_type": "markdown",
      "metadata": {
        "id": "nYhyYWc4UUIH",
        "colab_type": "text"
      },
      "source": [
        "線形位相性を持つCNNカーネル（前処理なし）"
      ]
    },
    {
      "cell_type": "code",
      "metadata": {
        "id": "ta1gS-rqLI_z",
        "colab_type": "code",
        "colab": {
          "base_uri": "https://localhost:8080/",
          "height": 105
        },
        "outputId": "4d8a220b-9d2d-4600-c223-49006c7491b9"
      },
      "source": [
        "!python main.py --mode 'train' --batch-size 16 --epochs 100 --model-path './N2CModel_lpfir.pht' --lpfir"
      ],
      "execution_count": null,
      "outputs": [
        {
          "output_type": "stream",
          "text": [
            "/usr/local/lib/python3.6/dist-packages/torch/nn/functional.py:2796: UserWarning: nn.functional.upsample is deprecated. Use nn.functional.interpolate instead.\n",
            "  warnings.warn(\"nn.functional.upsample is deprecated. Use nn.functional.interpolate instead.\")\n",
            "finished training\n",
            "last trainning loss : 0.000160859033672346\n"
          ],
          "name": "stdout"
        }
      ]
    },
    {
      "cell_type": "code",
      "metadata": {
        "id": "kUcgsGymLKbM",
        "colab_type": "code",
        "colab": {
          "base_uri": "https://localhost:8080/",
          "height": 105
        },
        "outputId": "03df8168-edfd-403b-bb5b-51ca6fc295d9"
      },
      "source": [
        "!python main.py --mode 'test' --batch-size 16 --model-path './N2CModel_lpfir.pht'"
      ],
      "execution_count": null,
      "outputs": [
        {
          "output_type": "stream",
          "text": [
            "/usr/local/lib/python3.6/dist-packages/torch/nn/functional.py:2796: UserWarning: nn.functional.upsample is deprecated. Use nn.functional.interpolate instead.\n",
            "  warnings.warn(\"nn.functional.upsample is deprecated. Use nn.functional.interpolate instead.\")\n",
            "finishied test\n",
            "test loss : 0.00015792070983231744\n"
          ],
          "name": "stdout"
        }
      ]
    },
    {
      "cell_type": "code",
      "metadata": {
        "id": "zmA4cIsfMr_G",
        "colab_type": "code",
        "colab": {
          "base_uri": "https://localhost:8080/",
          "height": 88
        },
        "outputId": "e6c0886e-f2e9-4b2d-b267-603d9f13a05e"
      },
      "source": [
        "!python main.py --mode 'run' --data-path ./159166596.jpg --model-path './N2CModel_lpfir.pht'"
      ],
      "execution_count": null,
      "outputs": [
        {
          "output_type": "stream",
          "text": [
            "/usr/local/lib/python3.6/dist-packages/torch/nn/functional.py:2796: UserWarning: nn.functional.upsample is deprecated. Use nn.functional.interpolate instead.\n",
            "  warnings.warn(\"nn.functional.upsample is deprecated. Use nn.functional.interpolate instead.\")\n",
            "finishied running\n"
          ],
          "name": "stdout"
        }
      ]
    },
    {
      "cell_type": "markdown",
      "metadata": {
        "id": "lxMF1DnlUgfk",
        "colab_type": "text"
      },
      "source": [
        "通常のCNNカーネル（前処理なし）"
      ]
    },
    {
      "cell_type": "code",
      "metadata": {
        "id": "ppVnSMaRUjt8",
        "colab_type": "code",
        "colab": {
          "base_uri": "https://localhost:8080/",
          "height": 105
        },
        "outputId": "fb07a68e-0220-4729-ae0a-d9d7baea44e7"
      },
      "source": [
        "!python main.py --mode 'train' --batch-size 16 --epochs 100 --model-path './N2CModel_no-rf.pht' --no-rf"
      ],
      "execution_count": null,
      "outputs": [
        {
          "output_type": "stream",
          "text": [
            "/usr/local/lib/python3.6/dist-packages/torch/nn/functional.py:2796: UserWarning: nn.functional.upsample is deprecated. Use nn.functional.interpolate instead.\n",
            "  warnings.warn(\"nn.functional.upsample is deprecated. Use nn.functional.interpolate instead.\")\n",
            "finished training\n",
            "last trainning loss : 0.000176086255038778\n"
          ],
          "name": "stdout"
        }
      ]
    },
    {
      "cell_type": "code",
      "metadata": {
        "id": "nS_yvriGU1c9",
        "colab_type": "code",
        "colab": {
          "base_uri": "https://localhost:8080/",
          "height": 105
        },
        "outputId": "6788c6ea-c100-4da1-e491-a1dd1900c39c"
      },
      "source": [
        "!python main.py --mode 'test' --batch-size 16 --model-path './N2CModel_no-rf.pht'"
      ],
      "execution_count": null,
      "outputs": [
        {
          "output_type": "stream",
          "text": [
            "/usr/local/lib/python3.6/dist-packages/torch/nn/functional.py:2796: UserWarning: nn.functional.upsample is deprecated. Use nn.functional.interpolate instead.\n",
            "  warnings.warn(\"nn.functional.upsample is deprecated. Use nn.functional.interpolate instead.\")\n",
            "finishied test\n",
            "test loss : 0.0001291021339552985\n"
          ],
          "name": "stdout"
        }
      ]
    },
    {
      "cell_type": "code",
      "metadata": {
        "id": "_usJLJ9dVACe",
        "colab_type": "code",
        "colab": {
          "base_uri": "https://localhost:8080/",
          "height": 88
        },
        "outputId": "cada4201-a953-45bf-ec09-8db6445dc9d1"
      },
      "source": [
        "!python main.py --mode 'run' --data-path ./159166596.jpg --model-path './N2CModel_no-rf.pht'"
      ],
      "execution_count": null,
      "outputs": [
        {
          "output_type": "stream",
          "text": [
            "/usr/local/lib/python3.6/dist-packages/torch/nn/functional.py:2796: UserWarning: nn.functional.upsample is deprecated. Use nn.functional.interpolate instead.\n",
            "  warnings.warn(\"nn.functional.upsample is deprecated. Use nn.functional.interpolate instead.\")\n",
            "finishied running\n"
          ],
          "name": "stdout"
        }
      ]
    }
  ]
}